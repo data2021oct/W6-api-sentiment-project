{
 "cells": [
  {
   "cell_type": "code",
   "execution_count": 1,
   "id": "a40d90fc",
   "metadata": {},
   "outputs": [],
   "source": [
    "import pandas as pd\n",
    "import requests"
   ]
  },
  {
   "cell_type": "markdown",
   "id": "da55ba41",
   "metadata": {},
   "source": [
    "## Post api = insert usuario"
   ]
  },
  {
   "cell_type": "code",
   "execution_count": null,
   "id": "5f5b7159",
   "metadata": {},
   "outputs": [],
   "source": [
    "enduser = \"http://127.0.0.1:5000/usuario\"\n",
    "user5 = \"Andresismos\"\n",
    "user4 = \"otraprueba\"\n",
    "user3 = \"Usuaria\"\n",
    "user = \"Sinatxe\"\n",
    "user2= \"Ester\"\n",
    "datauser = ({\"nombre\": user5})\n",
    "requests.post(enduser, data=datauser).content"
   ]
  },
  {
   "cell_type": "code",
   "execution_count": null,
   "id": "5337755e",
   "metadata": {},
   "outputs": [],
   "source": [
    "principales = pd.read_csv(\"../data/principales.csv\")"
   ]
  },
  {
   "cell_type": "code",
   "execution_count": null,
   "id": "7d1efc0d",
   "metadata": {},
   "outputs": [],
   "source": [
    "principales.sample(3)"
   ]
  },
  {
   "cell_type": "code",
   "execution_count": null,
   "id": "13002237",
   "metadata": {},
   "outputs": [],
   "source": [
    "endpoint = \"http://127.0.0.1:5000/newline\""
   ]
  },
  {
   "cell_type": "code",
   "execution_count": null,
   "id": "d0321ba6",
   "metadata": {},
   "outputs": [],
   "source": [
    "samp = principales.sample()"
   ]
  },
  {
   "cell_type": "code",
   "execution_count": null,
   "id": "5c766743",
   "metadata": {},
   "outputs": [],
   "source": [
    "for i,r in samp.iterrows():\n",
    "    temp = r.season\n",
    "    epi = r.episode_title\n",
    "    charac = r.character\n",
    "    line = r.quote\n",
    "print( temp, epi, charac, line)"
   ]
  },
  {
   "cell_type": "code",
   "execution_count": null,
   "id": "f573791a",
   "metadata": {},
   "outputs": [],
   "source": [
    "parametros =( {\"temporada\":temp, \"episodio\":epi, \"personaje\":charac, \"frase\":line})"
   ]
  },
  {
   "cell_type": "code",
   "execution_count": null,
   "id": "2d6d8a81",
   "metadata": {},
   "outputs": [],
   "source": [
    "parametros"
   ]
  },
  {
   "cell_type": "code",
   "execution_count": null,
   "id": "172bde32",
   "metadata": {},
   "outputs": [],
   "source": [
    "requests.post(endpoint, data=parametros).content"
   ]
  },
  {
   "cell_type": "code",
   "execution_count": 7,
   "id": "cc02ce7a",
   "metadata": {},
   "outputs": [
    {
     "data": {
      "text/plain": [
       "b'<!DOCTYPE HTML PUBLIC \"-//W3C//DTD HTML 3.2 Final//EN\">\\n<title>404 Not Found</title>\\n<h1>Not Found</h1>\\n<p>The requested URL was not found on the server. If you entered the URL manually please check your spelling and try again.</p>\\n'"
      ]
     },
     "execution_count": 7,
     "metadata": {},
     "output_type": "execute_result"
    }
   ],
   "source": [
    "urlsent = \"http://127.0.0.1:5000/sentiment\"\n",
    "char = \"Chandler\"\n",
    "datasent = ({\"character\": char})\n",
    "requests.get(urlsent, data=datasent).content\n"
   ]
  },
  {
   "cell_type": "code",
   "execution_count": 5,
   "id": "706c824c",
   "metadata": {},
   "outputs": [
    {
     "data": {
      "text/plain": [
       "b'\"choose one of these characters: Chandler, Rachel, Phoebe, Joey, Monica, Ross\"\\n'"
      ]
     },
     "execution_count": 5,
     "metadata": {},
     "output_type": "execute_result"
    }
   ],
   "source": [
    "url = \"http://127.0.0.1:5000/personajes\"\n",
    "requests.get(url).content"
   ]
  },
  {
   "cell_type": "code",
   "execution_count": null,
   "id": "d8bfd559",
   "metadata": {},
   "outputs": [],
   "source": [
    "enduser = \"http://127.0.0.1:5000/usuario\"\n",
    "user5 = \"Andresismos\"\n",
    "user4 = \"otraprueba\"\n",
    "user3 = \"Usuaria\"\n",
    "user = \"Sinatxe\"\n",
    "user2= \"Ester\"\n",
    "datauser = ({\"nombre\": user5})\n",
    "requests.post(enduser, data=datauser).content"
   ]
  }
 ],
 "metadata": {
  "kernelspec": {
   "display_name": "ironhack",
   "language": "python",
   "name": "ironhack"
  },
  "language_info": {
   "codemirror_mode": {
    "name": "ipython",
    "version": 3
   },
   "file_extension": ".py",
   "mimetype": "text/x-python",
   "name": "python",
   "nbconvert_exporter": "python",
   "pygments_lexer": "ipython3",
   "version": "3.8.5"
  }
 },
 "nbformat": 4,
 "nbformat_minor": 5
}
