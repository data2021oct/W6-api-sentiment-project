{
 "cells": [
  {
   "cell_type": "code",
   "execution_count": 1,
   "id": "a40d90fc",
   "metadata": {},
   "outputs": [],
   "source": [
    "import pandas as pd\n",
    "import requests"
   ]
  },
  {
   "cell_type": "markdown",
   "id": "da55ba41",
   "metadata": {},
   "source": [
    "## Post api = insert usuario"
   ]
  },
  {
   "cell_type": "code",
   "execution_count": 7,
   "id": "5f5b7159",
   "metadata": {},
   "outputs": [
    {
     "data": {
      "text/plain": [
       "b'choose another user name, this one is taken'"
      ]
     },
     "execution_count": 7,
     "metadata": {},
     "output_type": "execute_result"
    }
   ],
   "source": [
    "enduser = \"http://127.0.0.1:5000/usuario\"\n",
    "user3 = \"Usuaria\"\n",
    "user = \"Sinatxe\"\n",
    "user2= \"Ester\"\n",
    "datauser = ({\"nombre\": user3})\n",
    "requests.post(enduser, data=datauser).content"
   ]
  },
  {
   "cell_type": "code",
   "execution_count": 3,
   "id": "5337755e",
   "metadata": {},
   "outputs": [],
   "source": [
    "principales = pd.read_csv(\"../data/principales.csv\")"
   ]
  },
  {
   "cell_type": "code",
   "execution_count": 4,
   "id": "7d1efc0d",
   "metadata": {},
   "outputs": [
    {
     "data": {
      "text/html": [
       "<div>\n",
       "<style scoped>\n",
       "    .dataframe tbody tr th:only-of-type {\n",
       "        vertical-align: middle;\n",
       "    }\n",
       "\n",
       "    .dataframe tbody tr th {\n",
       "        vertical-align: top;\n",
       "    }\n",
       "\n",
       "    .dataframe thead th {\n",
       "        text-align: right;\n",
       "    }\n",
       "</style>\n",
       "<table border=\"1\" class=\"dataframe\">\n",
       "  <thead>\n",
       "    <tr style=\"text-align: right;\">\n",
       "      <th></th>\n",
       "      <th>character</th>\n",
       "      <th>episode_number</th>\n",
       "      <th>episode_title</th>\n",
       "      <th>quote</th>\n",
       "      <th>season</th>\n",
       "    </tr>\n",
       "  </thead>\n",
       "  <tbody>\n",
       "    <tr>\n",
       "      <th>22113</th>\n",
       "      <td>Chandler</td>\n",
       "      <td>14</td>\n",
       "      <td>Everybody Finds Out</td>\n",
       "      <td>Well you know that thing you said before, I`d ...</td>\n",
       "      <td>5</td>\n",
       "    </tr>\n",
       "    <tr>\n",
       "      <th>33704</th>\n",
       "      <td>Chandler</td>\n",
       "      <td>16</td>\n",
       "      <td>The Truth About London</td>\n",
       "      <td>I`d love it if you would do it.</td>\n",
       "      <td>7</td>\n",
       "    </tr>\n",
       "    <tr>\n",
       "      <th>39592</th>\n",
       "      <td>Monica</td>\n",
       "      <td>20</td>\n",
       "      <td>The Baby Shower</td>\n",
       "      <td>Hey!</td>\n",
       "      <td>8</td>\n",
       "    </tr>\n",
       "  </tbody>\n",
       "</table>\n",
       "</div>"
      ],
      "text/plain": [
       "      character  episode_number           episode_title  \\\n",
       "22113  Chandler              14     Everybody Finds Out   \n",
       "33704  Chandler              16  The Truth About London   \n",
       "39592    Monica              20         The Baby Shower   \n",
       "\n",
       "                                                   quote  season  \n",
       "22113  Well you know that thing you said before, I`d ...       5  \n",
       "33704                    I`d love it if you would do it.       7  \n",
       "39592                                               Hey!       8  "
      ]
     },
     "execution_count": 4,
     "metadata": {},
     "output_type": "execute_result"
    }
   ],
   "source": [
    "principales.sample(3)"
   ]
  },
  {
   "cell_type": "code",
   "execution_count": 8,
   "id": "13002237",
   "metadata": {},
   "outputs": [],
   "source": [
    "endpoint = \"http://127.0.0.1:5000/newline\""
   ]
  },
  {
   "cell_type": "code",
   "execution_count": 9,
   "id": "d0321ba6",
   "metadata": {},
   "outputs": [],
   "source": [
    "samp = principales.sample()"
   ]
  },
  {
   "cell_type": "code",
   "execution_count": 10,
   "id": "5c766743",
   "metadata": {},
   "outputs": [
    {
     "name": "stdout",
     "output_type": "stream",
     "text": [
      "4 The Ballroom Dancing Monica Wait, now so you joined the gym?\n"
     ]
    }
   ],
   "source": [
    "for i,r in samp.iterrows():\n",
    "    temp = r.season\n",
    "    epi = r.episode_title\n",
    "    charac = r.character\n",
    "    line = r.quote\n",
    "print( temp, epi, charac, line)"
   ]
  },
  {
   "cell_type": "code",
   "execution_count": 11,
   "id": "f573791a",
   "metadata": {},
   "outputs": [],
   "source": [
    "parametros =( {\"temporada\":temp, \"episodio\":epi, \"personaje\":charac, \"frase\":line})"
   ]
  },
  {
   "cell_type": "code",
   "execution_count": 12,
   "id": "2d6d8a81",
   "metadata": {},
   "outputs": [
    {
     "data": {
      "text/plain": [
       "{'temporada': 4,\n",
       " 'episodio': 'The Ballroom Dancing',\n",
       " 'personaje': 'Monica',\n",
       " 'frase': 'Wait, now so you joined the gym?'}"
      ]
     },
     "execution_count": 12,
     "metadata": {},
     "output_type": "execute_result"
    }
   ],
   "source": [
    "parametros"
   ]
  },
  {
   "cell_type": "code",
   "execution_count": 13,
   "id": "172bde32",
   "metadata": {},
   "outputs": [
    {
     "data": {
      "text/plain": [
       "b'fallo garrafal'"
      ]
     },
     "execution_count": 13,
     "metadata": {},
     "output_type": "execute_result"
    }
   ],
   "source": [
    "requests.post(endpoint, data=parametros).content"
   ]
  },
  {
   "cell_type": "code",
   "execution_count": null,
   "id": "cc02ce7a",
   "metadata": {},
   "outputs": [],
   "source": []
  }
 ],
 "metadata": {
  "kernelspec": {
   "display_name": "ironhack",
   "language": "python",
   "name": "ironhack"
  },
  "language_info": {
   "codemirror_mode": {
    "name": "ipython",
    "version": 3
   },
   "file_extension": ".py",
   "mimetype": "text/x-python",
   "name": "python",
   "nbconvert_exporter": "python",
   "pygments_lexer": "ipython3",
   "version": "3.8.5"
  }
 },
 "nbformat": 4,
 "nbformat_minor": 5
}
