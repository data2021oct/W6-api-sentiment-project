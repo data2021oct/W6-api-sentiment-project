{
 "cells": [
  {
   "cell_type": "code",
   "execution_count": 1,
   "id": "a40d90fc",
   "metadata": {},
   "outputs": [],
   "source": [
    "import pandas as pd\n",
    "import requests"
   ]
  },
  {
   "cell_type": "markdown",
   "id": "da55ba41",
   "metadata": {},
   "source": [
    "## Post api = insert usuario"
   ]
  },
  {
   "cell_type": "code",
   "execution_count": 2,
   "id": "5f5b7159",
   "metadata": {},
   "outputs": [
    {
     "data": {
      "text/plain": [
       "b'choose another user name, this one is taken'"
      ]
     },
     "execution_count": 2,
     "metadata": {},
     "output_type": "execute_result"
    }
   ],
   "source": [
    "enduser = \"http://127.0.0.1:5000/usuario\"\n",
    "user3 = \"Usuaria\"\n",
    "user = \"Sinatxe\"\n",
    "user2= \"Ester\"\n",
    "datauser = ({\"nombre\": user3})\n",
    "requests.post(enduser, data=datauser).content"
   ]
  },
  {
   "cell_type": "markdown",
   "id": "6b32cd57",
   "metadata": {},
   "source": [
    "## Post api = insert character"
   ]
  },
  {
   "cell_type": "code",
   "execution_count": 3,
   "id": "c487c32b",
   "metadata": {},
   "outputs": [
    {
     "data": {
      "text/plain": [
       "b'character exists'"
      ]
     },
     "execution_count": 3,
     "metadata": {},
     "output_type": "execute_result"
    }
   ],
   "source": [
    "enperson = \"http://127.0.0.1:5000/newperson\"\n",
    "person = \"Rachel\"\n",
    "dataperson = ({\"personaje\": person})\n",
    "requests.post(enperson, data=dataperson).content"
   ]
  },
  {
   "cell_type": "markdown",
   "id": "426d0b12",
   "metadata": {},
   "source": [
    "## Post api = insert episode"
   ]
  },
  {
   "cell_type": "code",
   "execution_count": 4,
   "id": "5e5fa8de",
   "metadata": {},
   "outputs": [
    {
     "data": {
      "text/plain": [
       "b'epiosde exists'"
      ]
     },
     "execution_count": 4,
     "metadata": {},
     "output_type": "execute_result"
    }
   ],
   "source": [
    "enepisode = \"http://127.0.0.1:5000/newepisode\"\n",
    "episode = \"No One Proposes\"\n",
    "tempo = 9\n",
    "episode_number = 1\n",
    "dataepisode = ({\"episodio\":episode,\"temporada\":tempo,\"numero\":episode_number})\n",
    "requests.post(enepisode,data = dataepisode).content"
   ]
  },
  {
   "cell_type": "markdown",
   "id": "cb69a691",
   "metadata": {},
   "source": [
    "## Post api = insert new line\n",
    "- Chosing a random row from our dataset, we insert in our database in mysql"
   ]
  },
  {
   "cell_type": "code",
   "execution_count": 5,
   "id": "5337755e",
   "metadata": {},
   "outputs": [],
   "source": [
    "principales = pd.read_csv(\"../data/principales.csv\")"
   ]
  },
  {
   "cell_type": "code",
   "execution_count": 6,
   "id": "7d1efc0d",
   "metadata": {},
   "outputs": [
    {
     "data": {
      "text/html": [
       "<div>\n",
       "<style scoped>\n",
       "    .dataframe tbody tr th:only-of-type {\n",
       "        vertical-align: middle;\n",
       "    }\n",
       "\n",
       "    .dataframe tbody tr th {\n",
       "        vertical-align: top;\n",
       "    }\n",
       "\n",
       "    .dataframe thead th {\n",
       "        text-align: right;\n",
       "    }\n",
       "</style>\n",
       "<table border=\"1\" class=\"dataframe\">\n",
       "  <thead>\n",
       "    <tr style=\"text-align: right;\">\n",
       "      <th></th>\n",
       "      <th>character</th>\n",
       "      <th>episode_number</th>\n",
       "      <th>episode_title</th>\n",
       "      <th>quote</th>\n",
       "      <th>season</th>\n",
       "    </tr>\n",
       "  </thead>\n",
       "  <tbody>\n",
       "    <tr>\n",
       "      <th>35561</th>\n",
       "      <td>Phoebe</td>\n",
       "      <td>1</td>\n",
       "      <td>\"I Do\"</td>\n",
       "      <td>We found your test in the trash, if you`re not...</td>\n",
       "      <td>8</td>\n",
       "    </tr>\n",
       "    <tr>\n",
       "      <th>7753</th>\n",
       "      <td>Ross</td>\n",
       "      <td>17</td>\n",
       "      <td>Eddie Moves In</td>\n",
       "      <td>Wait hold on Tony, hold on. [answers second li...</td>\n",
       "      <td>2</td>\n",
       "    </tr>\n",
       "    <tr>\n",
       "      <th>49890</th>\n",
       "      <td>Ross</td>\n",
       "      <td>17</td>\n",
       "      <td>The Last One, Part I &amp; II</td>\n",
       "      <td>Phoebe! Wow! No, no, no!</td>\n",
       "      <td>10</td>\n",
       "    </tr>\n",
       "  </tbody>\n",
       "</table>\n",
       "</div>"
      ],
      "text/plain": [
       "      character  episode_number              episode_title  \\\n",
       "35561    Phoebe               1                     \"I Do\"   \n",
       "7753       Ross              17             Eddie Moves In   \n",
       "49890      Ross              17  The Last One, Part I & II   \n",
       "\n",
       "                                                   quote  season  \n",
       "35561  We found your test in the trash, if you`re not...       8  \n",
       "7753   Wait hold on Tony, hold on. [answers second li...       2  \n",
       "49890                           Phoebe! Wow! No, no, no!      10  "
      ]
     },
     "execution_count": 6,
     "metadata": {},
     "output_type": "execute_result"
    }
   ],
   "source": [
    "principales.sample(3)"
   ]
  },
  {
   "cell_type": "code",
   "execution_count": 7,
   "id": "13002237",
   "metadata": {},
   "outputs": [],
   "source": [
    "endpoint = \"http://127.0.0.1:5000/newline\""
   ]
  },
  {
   "cell_type": "code",
   "execution_count": 8,
   "id": "d0321ba6",
   "metadata": {},
   "outputs": [],
   "source": [
    "samp = principales.sample()"
   ]
  },
  {
   "cell_type": "code",
   "execution_count": 9,
   "id": "5c766743",
   "metadata": {},
   "outputs": [
    {
     "name": "stdout",
     "output_type": "stream",
     "text": [
      "The Ball Chandler (To Monica) Yeah, see, I can`t pull of baby-doll can I?\n"
     ]
    }
   ],
   "source": [
    "for i,r in samp.iterrows():\n",
    "    epi = r.episode_title\n",
    "    charac = r.character\n",
    "    line = r.quote\n",
    "print(epi, charac, line)"
   ]
  },
  {
   "cell_type": "code",
   "execution_count": 10,
   "id": "f573791a",
   "metadata": {},
   "outputs": [],
   "source": [
    "dataquotes =( {\"episodio\":epi, \"personaje\":charac, \"frase\":line})"
   ]
  },
  {
   "cell_type": "code",
   "execution_count": 11,
   "id": "2d6d8a81",
   "metadata": {},
   "outputs": [
    {
     "data": {
      "text/plain": [
       "{'episodio': 'The Ball',\n",
       " 'personaje': 'Chandler',\n",
       " 'frase': '(To Monica) Yeah, see, I can`t pull of baby-doll can I?'}"
      ]
     },
     "execution_count": 11,
     "metadata": {},
     "output_type": "execute_result"
    }
   ],
   "source": [
    "dataquotes"
   ]
  },
  {
   "cell_type": "code",
   "execution_count": 12,
   "id": "172bde32",
   "metadata": {},
   "outputs": [
    {
     "data": {
      "text/plain": [
       "b'inserted'"
      ]
     },
     "execution_count": 12,
     "metadata": {},
     "output_type": "execute_result"
    }
   ],
   "source": [
    "requests.post(endpoint, data=dataquotes).content"
   ]
  }
 ],
 "metadata": {
  "kernelspec": {
   "display_name": "ironhack",
   "language": "python",
   "name": "ironhack"
  },
  "language_info": {
   "codemirror_mode": {
    "name": "ipython",
    "version": 3
   },
   "file_extension": ".py",
   "mimetype": "text/x-python",
   "name": "python",
   "nbconvert_exporter": "python",
   "pygments_lexer": "ipython3",
   "version": "3.8.5"
  }
 },
 "nbformat": 4,
 "nbformat_minor": 5
}
