{
 "cells": [
  {
   "cell_type": "code",
   "execution_count": 1,
   "id": "ebb199cd",
   "metadata": {},
   "outputs": [],
   "source": [
    "import pandas as pd\n",
    "import sys\n",
    "import os\n",
    "sys.path.append('../tools')\n",
    "import sqlalchemy as alch\n",
    "import dotenv\n",
    "import sqltools as st"
   ]
  },
  {
   "cell_type": "code",
   "execution_count": 2,
   "id": "44b79401",
   "metadata": {},
   "outputs": [
    {
     "data": {
      "text/plain": [
       "True"
      ]
     },
     "execution_count": 2,
     "metadata": {},
     "output_type": "execute_result"
    }
   ],
   "source": [
    "dotenv.load_dotenv()"
   ]
  },
  {
   "cell_type": "markdown",
   "id": "a27497fc",
   "metadata": {},
   "source": [
    "## Data load: TV show FRIENDS: SCRIPT"
   ]
  },
  {
   "cell_type": "markdown",
   "id": "c5270860",
   "metadata": {},
   "source": [
    "![](https://media4.giphy.com/media/Jzxgefavt2aB2/200.gif)"
   ]
  },
  {
   "cell_type": "code",
   "execution_count": 3,
   "id": "633e9ca1",
   "metadata": {},
   "outputs": [],
   "source": [
    "friends = pd.read_csv(\"../data/friends_quotes.csv\",encoding = \"utf-8\")"
   ]
  },
  {
   "cell_type": "code",
   "execution_count": 4,
   "id": "48a4ae37",
   "metadata": {
    "scrolled": true
   },
   "outputs": [],
   "source": [
    "friends.rename({\"author\":\"character\"}, axis=1, inplace=True)\n",
    "friends.drop(\"quote_order\",axis=1,inplace = True)"
   ]
  },
  {
   "cell_type": "markdown",
   "id": "17aa4653",
   "metadata": {},
   "source": [
    "### Cleaning dataset"
   ]
  },
  {
   "cell_type": "code",
   "execution_count": 5,
   "id": "71bd3dd6",
   "metadata": {},
   "outputs": [],
   "source": [
    "friends.quote = friends.quote.str.replace(\"\",\"`\",regex = True)\n",
    "friends.quote = friends.quote.str.replace(\"'\",\"`\",regex = True)\n",
    "friends.episode_title = friends.episode_title.str.replace(\"\",\"`\",regex = True)\n",
    "friends.episode_title = friends.episode_title.str.replace(\"'\",\"`\",regex = True)"
   ]
  },
  {
   "cell_type": "code",
   "execution_count": 6,
   "id": "08177040",
   "metadata": {},
   "outputs": [],
   "source": [
    "friends[\"episode_number\"] = friends.episode_number.astype('int64')\n",
    "friends[\"season\"] = friends.season.astype('int64')\n",
    "friends[\"character\"] = friends.character.str.title()"
   ]
  },
  {
   "cell_type": "code",
   "execution_count": 7,
   "id": "bd849ece",
   "metadata": {},
   "outputs": [],
   "source": [
    "dicc_friends ={\"Mnca\":\"Monica\",r\"(Rach.?$)\":\"Rachel\",r\"(Chan.?$)\":\"Chandler\",\n",
    "              r\"(Phoe.?$)\":\"Phoebe\",\"Fat Monica\":\"Monica\",\n",
    "              \"Joey/Drake\":\"Joey\",\"Big Nosed Rachel\":\"Rachel\",\n",
    "               \"Fat Joey\":\"Joey\"              \n",
    "              }"
   ]
  },
  {
   "cell_type": "code",
   "execution_count": 8,
   "id": "3922c209",
   "metadata": {},
   "outputs": [],
   "source": [
    "friends.character = friends.character.str.replace(\"Mnca\",\"Monica\")\n",
    "friends.character = friends.character.str.replace(r\"(Rach.?$)\",\"Rachel\",regex = True)\n",
    "friends.character = friends.character.str.replace(r\"(Chan.?$)\",\"Chandler\",regex = True)\n",
    "friends.character = friends.character.str.replace(r\"(Phoe.?$)\",\"Phoebe\",regex = True)\n",
    "friends.character = friends.character.str.replace(\"Fat Monica\",\"Monica\",regex = True)\n",
    "friends.character = friends.character.str.replace(\"Joey/Drake\",\"Joey\",regex = True)\n",
    "friends.character = friends.character.str.replace(\"Big Nosed Rachel\",\"Rachel\",regex = True)\n",
    "friends.character = friends.character.str.replace(\"Fat Joey\",\"Joey\",regex = True)"
   ]
  },
  {
   "cell_type": "markdown",
   "id": "c1c20f50",
   "metadata": {},
   "source": [
    " - selection of the six principal characters and reduce it to a sample of 1000 lines"
   ]
  },
  {
   "cell_type": "code",
   "execution_count": 9,
   "id": "340f3be7",
   "metadata": {},
   "outputs": [],
   "source": [
    "cuenta = friends.groupby(\"character\").agg({\"quote\":\"count\"}).reset_index().sort_values(\"quote\",ascending = False)[:6]"
   ]
  },
  {
   "cell_type": "code",
   "execution_count": 10,
   "id": "b78939c1",
   "metadata": {},
   "outputs": [],
   "source": [
    "personajes = list(cuenta.character.values)"
   ]
  },
  {
   "cell_type": "code",
   "execution_count": 11,
   "id": "872ff6aa",
   "metadata": {},
   "outputs": [
    {
     "data": {
      "text/plain": [
       "['Rachel', 'Ross', 'Monica', 'Chandler', 'Joey', 'Phoebe']"
      ]
     },
     "execution_count": 11,
     "metadata": {},
     "output_type": "execute_result"
    }
   ],
   "source": [
    "personajes"
   ]
  },
  {
   "cell_type": "code",
   "execution_count": 12,
   "id": "45053f06",
   "metadata": {},
   "outputs": [],
   "source": [
    "principales = friends.loc[friends['character'].isin(personajes)]"
   ]
  },
  {
   "cell_type": "code",
   "execution_count": 13,
   "id": "ce30cab5",
   "metadata": {
    "scrolled": true
   },
   "outputs": [],
   "source": [
    "principales.to_csv(\"../data/principales.csv\",index=False)"
   ]
  },
  {
   "cell_type": "code",
   "execution_count": 14,
   "id": "81554983",
   "metadata": {},
   "outputs": [],
   "source": [
    "#muestra = principales.sample(1000)"
   ]
  },
  {
   "cell_type": "code",
   "execution_count": 15,
   "id": "30a8f64c",
   "metadata": {},
   "outputs": [],
   "source": [
    "#muestra.to_csv(\"../data/muestra.csv\",index=False)"
   ]
  },
  {
   "cell_type": "code",
   "execution_count": 18,
   "id": "497ac32f",
   "metadata": {
    "scrolled": false
   },
   "outputs": [
    {
     "data": {
      "text/html": [
       "<div>\n",
       "<style scoped>\n",
       "    .dataframe tbody tr th:only-of-type {\n",
       "        vertical-align: middle;\n",
       "    }\n",
       "\n",
       "    .dataframe tbody tr th {\n",
       "        vertical-align: top;\n",
       "    }\n",
       "\n",
       "    .dataframe thead th {\n",
       "        text-align: right;\n",
       "    }\n",
       "</style>\n",
       "<table border=\"1\" class=\"dataframe\">\n",
       "  <thead>\n",
       "    <tr style=\"text-align: right;\">\n",
       "      <th></th>\n",
       "      <th>character</th>\n",
       "      <th>episode_number</th>\n",
       "      <th>episode_title</th>\n",
       "      <th>quote</th>\n",
       "      <th>season</th>\n",
       "    </tr>\n",
       "  </thead>\n",
       "  <tbody>\n",
       "    <tr>\n",
       "      <th>35228</th>\n",
       "      <td>Chandler</td>\n",
       "      <td>21</td>\n",
       "      <td>Ross Meets Elizabeth`s Dad</td>\n",
       "      <td>Hmm.</td>\n",
       "      <td>6</td>\n",
       "    </tr>\n",
       "    <tr>\n",
       "      <th>13712</th>\n",
       "      <td>Monica</td>\n",
       "      <td>9</td>\n",
       "      <td>The Football</td>\n",
       "      <td>Break!</td>\n",
       "      <td>3</td>\n",
       "    </tr>\n",
       "    <tr>\n",
       "      <th>6345</th>\n",
       "      <td>Ross</td>\n",
       "      <td>2</td>\n",
       "      <td>The Breast Milk</td>\n",
       "      <td>Oh, you`ve tasted it.</td>\n",
       "      <td>2</td>\n",
       "    </tr>\n",
       "    <tr>\n",
       "      <th>51433</th>\n",
       "      <td>Rachel</td>\n",
       "      <td>10</td>\n",
       "      <td>Christmas In Tulsa</td>\n",
       "      <td>We are looking for our Christmas presents from...</td>\n",
       "      <td>9</td>\n",
       "    </tr>\n",
       "    <tr>\n",
       "      <th>26623</th>\n",
       "      <td>Phoebe</td>\n",
       "      <td>12</td>\n",
       "      <td>Chandler`s Work Laugh</td>\n",
       "      <td>Uh-hmm.</td>\n",
       "      <td>5</td>\n",
       "    </tr>\n",
       "  </tbody>\n",
       "</table>\n",
       "</div>"
      ],
      "text/plain": [
       "      character  episode_number               episode_title  \\\n",
       "35228  Chandler              21  Ross Meets Elizabeth`s Dad   \n",
       "13712    Monica               9                The Football   \n",
       "6345       Ross               2             The Breast Milk   \n",
       "51433    Rachel              10          Christmas In Tulsa   \n",
       "26623    Phoebe              12       Chandler`s Work Laugh   \n",
       "\n",
       "                                                   quote  season  \n",
       "35228                                               Hmm.       6  \n",
       "13712                                             Break!       3  \n",
       "6345                               Oh, you`ve tasted it.       2  \n",
       "51433  We are looking for our Christmas presents from...       9  \n",
       "26623                                            Uh-hmm.       5  "
      ]
     },
     "execution_count": 18,
     "metadata": {},
     "output_type": "execute_result"
    }
   ],
   "source": [
    "muestra.sample(5)"
   ]
  },
  {
   "cell_type": "markdown",
   "id": "49f6125a",
   "metadata": {},
   "source": [
    "## Insert data in mysql\n"
   ]
  },
  {
   "cell_type": "code",
   "execution_count": null,
   "id": "6e295622",
   "metadata": {},
   "outputs": [],
   "source": [
    "col1 = \"season\"\n",
    "col2 = \"character\"\n",
    "col3 = \"episode_title\"\n",
    "col4 = \"quote\"\n",
    "col5 = \"episode_number\"\n",
    "df = muestra\n",
    "st.insertaciones(df,col1,col2,col3,col4,col5)"
   ]
  }
 ],
 "metadata": {
  "kernelspec": {
   "display_name": "ironhack",
   "language": "python",
   "name": "ironhack"
  },
  "language_info": {
   "codemirror_mode": {
    "name": "ipython",
    "version": 3
   },
   "file_extension": ".py",
   "mimetype": "text/x-python",
   "name": "python",
   "nbconvert_exporter": "python",
   "pygments_lexer": "ipython3",
   "version": "3.8.5"
  }
 },
 "nbformat": 4,
 "nbformat_minor": 5
}
