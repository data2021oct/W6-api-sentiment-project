{
 "cells": [
  {
   "cell_type": "code",
   "execution_count": 2,
   "id": "c540ab40",
   "metadata": {},
   "outputs": [
    {
     "name": "stderr",
     "output_type": "stream",
     "text": [
      "[nltk_data] Downloading package vader_lexicon to\n",
      "[nltk_data]     /home/sinatxe/nltk_data...\n",
      "[nltk_data]   Package vader_lexicon is already up-to-date!\n"
     ]
    }
   ],
   "source": [
    "import pandas as pd\n",
    "import sys\n",
    "import os\n",
    "sys.path.append('../tools')\n",
    "import emotions as tem\n",
    "import sqlalchemy as alch"
   ]
  },
  {
   "cell_type": "code",
   "execution_count": 3,
   "id": "6d094639",
   "metadata": {},
   "outputs": [],
   "source": [
    "import string\n",
    "import spacy\n",
    "import en_core_web_sm\n",
    "from nltk.corpus import stopwords\n",
    "import seaborn as sns\n",
    "import matplotlib.pyplot as plt"
   ]
  },
  {
   "cell_type": "code",
   "execution_count": 4,
   "id": "1287961d",
   "metadata": {},
   "outputs": [],
   "source": [
    "#config visualization\n",
    "%matplotlib inline\n",
    "%config Inlinebackend.figure_format= 'retina'\n",
    "sns.set_context(\"poster\")\n",
    "sns.set(rc={\"figure.figsize\": (10.,7.)})\n",
    "sns.set_style(\"whitegrid\")"
   ]
  },
  {
   "cell_type": "markdown",
   "id": "27dbfa8a",
   "metadata": {},
   "source": [
    "## Sentiment Analysis of our database by character"
   ]
  },
  {
   "cell_type": "code",
   "execution_count": 4,
   "id": "64f6e9fc",
   "metadata": {},
   "outputs": [],
   "source": [
    "muestra_sent = pd.read_csv(\"../data/muestra.csv\")"
   ]
  },
  {
   "cell_type": "code",
   "execution_count": 6,
   "id": "a66d903f",
   "metadata": {},
   "outputs": [],
   "source": [
    "muestra_sent[\"tokening\"] = muestra_sent.quote.apply(tem.tokenizando)"
   ]
  },
  {
   "cell_type": "code",
   "execution_count": null,
   "id": "50ad56fc",
   "metadata": {},
   "outputs": [],
   "source": [
    "muestra_sent.tokening.fillna(\" \",inplace = True)"
   ]
  },
  {
   "cell_type": "code",
   "execution_count": null,
   "id": "349e5aeb",
   "metadata": {},
   "outputs": [],
   "source": [
    "muestra_sent[\"emotions\"] = muestra_sent.tokening.apply(tem.sentimental)"
   ]
  },
  {
   "cell_type": "code",
   "execution_count": null,
   "id": "697f159b",
   "metadata": {},
   "outputs": [],
   "source": [
    "muestra_sent[[\"polaridad\",\"subjetividad\",\"neg\",\"neu\",\"pos\",\"compound\"]] = pd.DataFrame(muestra_sent.emotions.tolist(),index= muestra_sent.index)"
   ]
  },
  {
   "cell_type": "code",
   "execution_count": null,
   "id": "d2a9a590",
   "metadata": {},
   "outputs": [],
   "source": [
    "muestra_sent.to_csv(\"../data/muestra_sent.csv\",index = False)"
   ]
  },
  {
   "cell_type": "code",
   "execution_count": 6,
   "id": "130be8c2",
   "metadata": {},
   "outputs": [],
   "source": [
    "medias_sent = muestra_sent.groupby(\"character\").agg({\"polaridad\":\"mean\",\"subjetividad\":\"mean\",\"neg\":\"mean\",\"neu\":\"mean\",\"pos\":\"mean\",\"compound\":\"mean\"}).reset_index().sort_values(\"compound\")"
   ]
  },
  {
   "cell_type": "code",
   "execution_count": 7,
   "id": "dd2c2e60",
   "metadata": {
    "scrolled": true
   },
   "outputs": [
    {
     "data": {
      "text/html": [
       "<div>\n",
       "<style scoped>\n",
       "    .dataframe tbody tr th:only-of-type {\n",
       "        vertical-align: middle;\n",
       "    }\n",
       "\n",
       "    .dataframe tbody tr th {\n",
       "        vertical-align: top;\n",
       "    }\n",
       "\n",
       "    .dataframe thead th {\n",
       "        text-align: right;\n",
       "    }\n",
       "</style>\n",
       "<table border=\"1\" class=\"dataframe\">\n",
       "  <thead>\n",
       "    <tr style=\"text-align: right;\">\n",
       "      <th></th>\n",
       "      <th>character</th>\n",
       "      <th>polaridad</th>\n",
       "      <th>subjetividad</th>\n",
       "      <th>neg</th>\n",
       "      <th>neu</th>\n",
       "      <th>pos</th>\n",
       "      <th>compound</th>\n",
       "    </tr>\n",
       "  </thead>\n",
       "  <tbody>\n",
       "    <tr>\n",
       "      <th>5</th>\n",
       "      <td>Ross</td>\n",
       "      <td>0.050809</td>\n",
       "      <td>0.290568</td>\n",
       "      <td>0.117491</td>\n",
       "      <td>0.636473</td>\n",
       "      <td>0.197558</td>\n",
       "      <td>0.087426</td>\n",
       "    </tr>\n",
       "    <tr>\n",
       "      <th>2</th>\n",
       "      <td>Monica</td>\n",
       "      <td>0.068476</td>\n",
       "      <td>0.262884</td>\n",
       "      <td>0.077800</td>\n",
       "      <td>0.601963</td>\n",
       "      <td>0.246547</td>\n",
       "      <td>0.107398</td>\n",
       "    </tr>\n",
       "    <tr>\n",
       "      <th>0</th>\n",
       "      <td>Chandler</td>\n",
       "      <td>0.087634</td>\n",
       "      <td>0.317637</td>\n",
       "      <td>0.082937</td>\n",
       "      <td>0.621176</td>\n",
       "      <td>0.245541</td>\n",
       "      <td>0.143482</td>\n",
       "    </tr>\n",
       "    <tr>\n",
       "      <th>1</th>\n",
       "      <td>Joey</td>\n",
       "      <td>0.073719</td>\n",
       "      <td>0.265077</td>\n",
       "      <td>0.074172</td>\n",
       "      <td>0.594262</td>\n",
       "      <td>0.283290</td>\n",
       "      <td>0.151501</td>\n",
       "    </tr>\n",
       "    <tr>\n",
       "      <th>3</th>\n",
       "      <td>Phoebe</td>\n",
       "      <td>0.097150</td>\n",
       "      <td>0.278344</td>\n",
       "      <td>0.079399</td>\n",
       "      <td>0.596758</td>\n",
       "      <td>0.265033</td>\n",
       "      <td>0.165449</td>\n",
       "    </tr>\n",
       "    <tr>\n",
       "      <th>4</th>\n",
       "      <td>Rachel</td>\n",
       "      <td>0.107709</td>\n",
       "      <td>0.268393</td>\n",
       "      <td>0.058537</td>\n",
       "      <td>0.567766</td>\n",
       "      <td>0.288585</td>\n",
       "      <td>0.195117</td>\n",
       "    </tr>\n",
       "  </tbody>\n",
       "</table>\n",
       "</div>"
      ],
      "text/plain": [
       "  character  polaridad  subjetividad       neg       neu       pos  compound\n",
       "5      Ross   0.050809      0.290568  0.117491  0.636473  0.197558  0.087426\n",
       "2    Monica   0.068476      0.262884  0.077800  0.601963  0.246547  0.107398\n",
       "0  Chandler   0.087634      0.317637  0.082937  0.621176  0.245541  0.143482\n",
       "1      Joey   0.073719      0.265077  0.074172  0.594262  0.283290  0.151501\n",
       "3    Phoebe   0.097150      0.278344  0.079399  0.596758  0.265033  0.165449\n",
       "4    Rachel   0.107709      0.268393  0.058537  0.567766  0.288585  0.195117"
      ]
     },
     "execution_count": 7,
     "metadata": {},
     "output_type": "execute_result"
    }
   ],
   "source": [
    "medias_sent"
   ]
  },
  {
   "cell_type": "markdown",
   "id": "6e5e8fde",
   "metadata": {},
   "source": [
    "## Subjectivity"
   ]
  },
  {
   "cell_type": "code",
   "execution_count": 8,
   "id": "f3bb8485",
   "metadata": {},
   "outputs": [
    {
     "data": {
      "image/png": "[encoded data removed]",
      "text/plain": [
       "<Figure size 720x504 with 1 Axes>"
      ]
     },
     "metadata": {},
     "output_type": "display_data"
    }
   ],
   "source": [
    "sns.barplot(y=medias_sent.subjetividad,x = medias_sent.character );"
   ]
  },
  {
   "cell_type": "markdown",
   "id": "c344a68b",
   "metadata": {},
   "source": [
    "![](https://c.tenor.com/hR2WhciBI3YAAAAC/chandler-friends.gif)"
   ]
  },
  {
   "cell_type": "markdown",
   "id": "dbb4545d",
   "metadata": {},
   "source": [
    "## Sadness\n",
    "- zero = sad / 1 = happy"
   ]
  },
  {
   "cell_type": "code",
   "execution_count": 9,
   "id": "3afdb5e3",
   "metadata": {},
   "outputs": [
    {
     "data": {
      "image/png": "[encoded data removed]",
      "text/plain": [
       "<Figure size 720x504 with 1 Axes>"
      ]
     },
     "metadata": {},
     "output_type": "display_data"
    }
   ],
   "source": [
    "sns.barplot(x=medias_sent.compound,y = medias_sent.character);"
   ]
  },
  {
   "cell_type": "markdown",
   "id": "da5019c6",
   "metadata": {},
   "source": [
    "![](https://media0.giphy.com/media/KN5JIUb3LO6Ws/giphy.gif)"
   ]
  },
  {
   "cell_type": "code",
   "execution_count": null,
   "id": "91d8d7f3",
   "metadata": {},
   "outputs": [],
   "source": []
  }
 ],
 "metadata": {
  "kernelspec": {
   "display_name": "ironhack",
   "language": "python",
   "name": "ironhack"
  },
  "language_info": {
   "codemirror_mode": {
    "name": "ipython",
    "version": 3
   },
   "file_extension": ".py",
   "mimetype": "text/x-python",
   "name": "python",
   "nbconvert_exporter": "python",
   "pygments_lexer": "ipython3",
   "version": "3.8.5"
  }
 },
 "nbformat": 4,
 "nbformat_minor": 5
}
