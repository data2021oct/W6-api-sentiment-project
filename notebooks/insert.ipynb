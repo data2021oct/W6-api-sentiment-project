{
 "cells": [
  {
   "cell_type": "code",
   "execution_count": 1,
   "id": "9aba9b33",
   "metadata": {},
   "outputs": [],
   "source": [
    "import pandas as pd"
   ]
  },
  {
   "cell_type": "code",
   "execution_count": null,
   "id": "b3b1db1e",
   "metadata": {},
   "outputs": [],
   "source": []
  },
  {
   "cell_type": "code",
   "execution_count": 2,
   "id": "43a3b2b5",
   "metadata": {},
   "outputs": [],
   "source": [
    "muestra = pd.read_csv(\"../data/muestra.csv\")"
   ]
  },
  {
   "cell_type": "code",
   "execution_count": 3,
   "id": "a98f7774",
   "metadata": {},
   "outputs": [
    {
     "data": {
      "text/html": [
       "<div>\n",
       "<style scoped>\n",
       "    .dataframe tbody tr th:only-of-type {\n",
       "        vertical-align: middle;\n",
       "    }\n",
       "\n",
       "    .dataframe tbody tr th {\n",
       "        vertical-align: top;\n",
       "    }\n",
       "\n",
       "    .dataframe thead th {\n",
       "        text-align: right;\n",
       "    }\n",
       "</style>\n",
       "<table border=\"1\" class=\"dataframe\">\n",
       "  <thead>\n",
       "    <tr style=\"text-align: right;\">\n",
       "      <th></th>\n",
       "      <th>character</th>\n",
       "      <th>episode_number</th>\n",
       "      <th>episode_title</th>\n",
       "      <th>quote</th>\n",
       "      <th>season</th>\n",
       "    </tr>\n",
       "  </thead>\n",
       "  <tbody>\n",
       "    <tr>\n",
       "      <th>0</th>\n",
       "      <td>Chandler</td>\n",
       "      <td>13</td>\n",
       "      <td>Chandler Takes A Bath</td>\n",
       "      <td>Okay. (As soon as Monica leaves the room, Chan...</td>\n",
       "      <td>8</td>\n",
       "    </tr>\n",
       "    <tr>\n",
       "      <th>1</th>\n",
       "      <td>Chandler</td>\n",
       "      <td>16</td>\n",
       "      <td>The Truth About London</td>\n",
       "      <td>And I was a perfect gentleman and I walked her...</td>\n",
       "      <td>7</td>\n",
       "    </tr>\n",
       "    <tr>\n",
       "      <th>2</th>\n",
       "      <td>Rachel</td>\n",
       "      <td>9</td>\n",
       "      <td>They`re Going To Party</td>\n",
       "      <td>Yes-yes, just a few seconds and she`d still be...</td>\n",
       "      <td>4</td>\n",
       "    </tr>\n",
       "    <tr>\n",
       "      <th>3</th>\n",
       "      <td>Phoebe</td>\n",
       "      <td>13</td>\n",
       "      <td>Chandler Takes A Bath</td>\n",
       "      <td>(from outside the bathroom) You guys?</td>\n",
       "      <td>8</td>\n",
       "    </tr>\n",
       "    <tr>\n",
       "      <th>4</th>\n",
       "      <td>Joey</td>\n",
       "      <td>7</td>\n",
       "      <td>Ross`s Library Book</td>\n",
       "      <td>(still skeptical) Oh, and how is Allison?</td>\n",
       "      <td>7</td>\n",
       "    </tr>\n",
       "  </tbody>\n",
       "</table>\n",
       "</div>"
      ],
      "text/plain": [
       "  character  episode_number           episode_title  \\\n",
       "0  Chandler              13   Chandler Takes A Bath   \n",
       "1  Chandler              16  The Truth About London   \n",
       "2    Rachel               9  They`re Going To Party   \n",
       "3    Phoebe              13   Chandler Takes A Bath   \n",
       "4      Joey               7     Ross`s Library Book   \n",
       "\n",
       "                                               quote  season  \n",
       "0  Okay. (As soon as Monica leaves the room, Chan...       8  \n",
       "1  And I was a perfect gentleman and I walked her...       7  \n",
       "2  Yes-yes, just a few seconds and she`d still be...       4  \n",
       "3              (from outside the bathroom) You guys?       8  \n",
       "4          (still skeptical) Oh, and how is Allison?       7  "
      ]
     },
     "execution_count": 3,
     "metadata": {},
     "output_type": "execute_result"
    }
   ],
   "source": [
    "muestra.head()"
   ]
  },
  {
   "cell_type": "code",
   "execution_count": null,
   "id": "7122c9ce",
   "metadata": {},
   "outputs": [],
   "source": []
  }
 ],
 "metadata": {
  "kernelspec": {
   "display_name": "ironhack",
   "language": "python",
   "name": "ironhack"
  },
  "language_info": {
   "codemirror_mode": {
    "name": "ipython",
    "version": 3
   },
   "file_extension": ".py",
   "mimetype": "text/x-python",
   "name": "python",
   "nbconvert_exporter": "python",
   "pygments_lexer": "ipython3",
   "version": "3.8.5"
  }
 },
 "nbformat": 4,
 "nbformat_minor": 5
}
